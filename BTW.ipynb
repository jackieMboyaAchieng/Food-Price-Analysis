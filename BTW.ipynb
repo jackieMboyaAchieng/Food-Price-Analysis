{
 "cells": [
  {
   "cell_type": "code",
   "execution_count": null,
   "id": "b9fff8c3-9424-4bf7-981d-04024f96a824",
   "metadata": {},
   "outputs": [],
   "source": [
    "def plot_average_prices_by_season(cereals_tubers_filtered):\n",
    "    # Convert date to datetime format and extract the seasons\n",
    "    cereals_tubers_filtered.loc['date'] = pd.to_datetime(cereals_tubers_filtered['date'])\n",
    "    cereals_tubers_filtered.loc['season'] = cereals_tubers_filtered['date'].dt.month % 12 // 3 + 1\n",
    "    season_map = {1: 'first_quarter', 2: 'second_quarter', 3: 'third_quarter', 4: 'fourth_quarter'}\n",
    "    cereals_tubers_filtered.loc['season'] = cereals_tubers_filtered['season'].map(season_map)\n",
    "    \n",
    "    # Calculate average price per commodity per season\n",
    "    avg_price_by_season = cereals_tubers_filtered.groupby(['commodity', 'season'])['standardized_price'].mean().reset_index()\n",
    "    \n",
    "    # Plot each season separately\n",
    "    seasons = season_map.values()\n",
    "    for season in seasons:\n",
    "        # Filter data for the current season\n",
    "        season_data = avg_price_by_season[avg_price_by_season['season'] == season]\n",
    "        \n",
    "        # Sort the data by average price in descending order\n",
    "        season_data = season_data.sort_values(by='standardized_price', ascending=False)\n",
    "        \n",
    "        plt.figure(figsize=(12, 8))\n",
    "        \n",
    "        # Plot average price\n",
    "        sns.barplot(x=season_data['commodity'], y=season_data['standardized_price'], palette='viridis')\n",
    "        \n",
    "        plt.title(f'Average Commodity Prices for {season}')\n",
    "        plt.xlabel('Commodity')\n",
    "        plt.ylabel('Average Price for 1 KG (KES)')\n",
    "        plt.xticks(rotation=90, ha='left')  # Rotate x-axis labels to be vertical\n",
    "        plt.show()\n"
   ]
  }
 ],
 "metadata": {
  "kernelspec": {
   "display_name": "Python 3 (ipykernel)",
   "language": "python",
   "name": "python3"
  },
  "language_info": {
   "codemirror_mode": {
    "name": "ipython",
    "version": 3
   },
   "file_extension": ".py",
   "mimetype": "text/x-python",
   "name": "python",
   "nbconvert_exporter": "python",
   "pygments_lexer": "ipython3",
   "version": "3.11.7"
  }
 },
 "nbformat": 4,
 "nbformat_minor": 5
}
